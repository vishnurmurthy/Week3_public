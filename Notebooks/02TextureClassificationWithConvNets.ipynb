{
  "nbformat": 4,
  "nbformat_minor": 0,
  "metadata": {
    "colab": {
      "name": "02TextureClassificationWithConvNets.ipynb",
      "version": "0.3.2",
      "provenance": []
    },
    "kernelspec": {
      "display_name": "Python 2",
      "language": "python",
      "name": "python2"
    }
  },
  "cells": [
    {
      "metadata": {
        "id": "a7scg4EGMfYk",
        "colab_type": "text"
      },
      "cell_type": "markdown",
      "source": [
        "# Tissue Classification using Neural Networks\n",
        "In this lab we will explore the use of texture in images and traditional machine learning approaches such as clustering. The dataset we will be using is available here: http://dx.doi.org/10.5281/zenodo.53169. \n",
        "\n",
        "![alt text](https://www.researchgate.net/profile/Jakob_Kather/publication/303998214/figure/fig7/AS:391073710002224@1470250646407/Representative-images-from-our-dataset-Here-the-first-10-images-of-every-tissue-class.png)\n",
        "\n",
        "The above figure shows the 8 different classes of tissue we will be trying to identify. "
      ]
    },
    {
      "metadata": {
        "id": "W86Oi6dCMfYp",
        "colab_type": "code",
        "colab": {}
      },
      "cell_type": "code",
      "source": [
        "# Imports\n",
        "from __future__ import print_function\n",
        "import os\n",
        "import numpy as np\n",
        "import matplotlib.pylab as plt\n",
        "import tensorflow as tf\n",
        "import keras\n",
        "from sklearn.model_selection import train_test_split\n",
        "from tensorflow.keras import Sequential\n",
        "from tensorflow.keras.layers import Dense\n",
        "from tensorflow.keras.layers import Flatten\n",
        "from tensorflow.keras.layers import Conv2D\n",
        "from tensorflow.keras.layers import Dropout\n",
        "from tensorflow.keras.layers import MaxPool2D\n",
        "from tensorflow.keras.optimizers import SGD\n",
        "from tensorflow.keras.utils import to_categorical"
      ],
      "execution_count": 0,
      "outputs": []
    },
    {
      "metadata": {
        "id": "DfDmvdh7MfYx",
        "colab_type": "text"
      },
      "cell_type": "markdown",
      "source": [
        "## Step 1\n",
        "* Load the data (done for you)\n",
        " * The \"data\" variable stores 5000 images of shape 150x150. This means data has shape (5000, 150, 150). These images are loaded here as grayscale.\n",
        " * The \"labels\" variable stores 5000 labels (0-7). This means \"labels\" has shape (5000,)\n",
        "* Split data into training and testing subsets (left up to you)\n",
        " * Check out the sklearn function train_test_split from sklearn.model_selection"
      ]
    },
    {
      "metadata": {
        "id": "vTPG58OXMfYz",
        "colab_type": "code",
        "colab": {
          "base_uri": "https://localhost:8080/",
          "height": 34
        },
        "outputId": "76a99513-9a5b-4c21-a6fe-d494718e0de9"
      },
      "cell_type": "code",
      "source": [
        "! git clone https://github.com/BeaverWorksMedlytics/Week3_public.git\n",
        "\n",
        "# Build the path to the data folder. No need to change directories\n",
        "# There are a total of 6 files you will have to load\n",
        "data_dir = os.path.join( os.getcwd(), 'Week3_public', 'data', 'crc')"
      ],
      "execution_count": 10,
      "outputs": [
        {
          "output_type": "stream",
          "text": [
            "fatal: destination path 'Week3_public' already exists and is not an empty directory.\r\n"
          ],
          "name": "stdout"
        }
      ]
    },
    {
      "metadata": {
        "id": "mF4iIwc8MfY4",
        "colab_type": "code",
        "colab": {
          "base_uri": "https://localhost:8080/",
          "height": 204
        },
        "outputId": "2bf9d82b-872d-434b-d55e-8ae748900f90"
      },
      "cell_type": "code",
      "source": [
        "# Load data and split into training, testing sets\n",
        "y = np.load(os.path.join(data_dir, 'rgb01.npz'))\n",
        "labels = y['labels']\n",
        "data = y['rgb_data']\n",
        "data = data[:,:,:,]\n",
        "label_str = y['label_str']\n",
        "label_str = label_str.tolist() # this is to convert label_str back to a dictionary\n",
        "y = []\n",
        "\n",
        "print(data.shape)\n",
        "for ii in range(2,6):\n",
        "    filename = os.path.join(data_dir, 'rgb0' + str(ii) + '.npz')\n",
        "    print('loading ', filename)\n",
        "    y = np.load(filename)\n",
        "    labels = np.append(labels, y['labels'], axis=0)\n",
        "    data = np.append(data, y['rgb_data'][:,:,:,], axis=0)\n",
        "    print(data.shape)\n",
        "    y = []\n",
        "\n",
        "\n",
        "print( data.shape )\n",
        "print( labels.shape )"
      ],
      "execution_count": 11,
      "outputs": [
        {
          "output_type": "stream",
          "text": [
            "(1000, 150, 150, 3)\n",
            "loading  /content/Week3_public/data/crc/rgb02.npz\n",
            "(2000, 150, 150, 3)\n",
            "loading  /content/Week3_public/data/crc/rgb03.npz\n",
            "(3000, 150, 150, 3)\n",
            "loading  /content/Week3_public/data/crc/rgb04.npz\n",
            "(4000, 150, 150, 3)\n",
            "loading  /content/Week3_public/data/crc/rgb05.npz\n",
            "(5000, 150, 150, 3)\n",
            "(5000, 150, 150, 3)\n",
            "(5000,)\n"
          ],
          "name": "stdout"
        }
      ]
    },
    {
      "metadata": {
        "id": "EnTT4tyXMfY9",
        "colab_type": "code",
        "colab": {}
      },
      "cell_type": "code",
      "source": [
        "num_images, nrows, ncols, nvals = data.shape\n",
        "\n",
        "X_train, X_test, train_labels, test_labels = train_test_split(data, labels, test_size=.2, random_state=0)\n",
        "X_train, X_val, train_labels, val_labels = train_test_split(X_train, train_labels, test_size=.2, random_state=0)\n",
        "\n",
        "X_train = X_train.astype('float64')\n",
        "X_val = X_val.astype('float64')\n",
        "X_test = X_test.astype('float64')\n",
        "\n",
        "\n",
        "train_labels = to_categorical(train_labels, 8)\n",
        "val_labels = to_categorical(val_labels, 8)\n",
        "test_labels = to_categorical(test_labels, 8)"
      ],
      "execution_count": 0,
      "outputs": []
    },
    {
      "metadata": {
        "id": "PtlCeN4FMfZD",
        "colab_type": "text"
      },
      "cell_type": "markdown",
      "source": [
        "## Normalize data\n",
        "All images should be normalized to the range 0-1 by dividing by 255.\n",
        "\n",
        "#### Note\n",
        "* Using the La\\*b colorspace : If you convert your images to the La\\*b colorspace, the scaling factor will change. Each channel in this colorspace will have a different range and normalization of each space will involve scaling each channel separately. Additionally, the a\\* channel can have a negative range. This also needs to be taken into account. \n",
        "* Using the HSV/HSI colorspace : Similar considerations apply if you are using the HSV/HSI colorspace. The only difference is that the HSV/HSI colorspace will have all positive values."
      ]
    },
    {
      "metadata": {
        "id": "_FeL1EP5MfZF",
        "colab_type": "code",
        "colab": {
          "base_uri": "https://localhost:8080/",
          "height": 34
        },
        "outputId": "a3155762-df49-44fa-a275-c692fc51617b"
      },
      "cell_type": "code",
      "source": [
        "\n",
        "# Assuming we are using the RGB colorspace# Assum \n",
        "# Normalize all images so that they are 0-1\n",
        "'''X_train_new = np.zeros((4000,64,64))\n",
        "X_test_new = np.zeros((1000,64,64))\n",
        "\n",
        "for i in range(len(X_train)):\n",
        "  X_train_new[i] = resize(image=X_train[i], output_shape=(64, 64))\n",
        "\n",
        "for i in range(len(X_test)):\n",
        "  X_test_new[i] = resize(image=X_test[i], output_shape=(64, 64))\n",
        "  \n",
        "X_train = X_train_new\n",
        "X_test = X_test_new'''\n",
        "num_images, nrows, ncols, nvals = X_train.shape\n",
        "\n",
        "X_train = X_train/255\n",
        "X_test = X_test/255\n",
        "\n",
        "'''\n",
        "X_train = X_train.reshape(4000, nrows*ncols)\n",
        "X_test = X_test.reshape(1000, nrows*ncols)'''\n",
        "\n",
        "print(X_train.shape, X_test.shape)\n",
        "num_classes = 8 "
      ],
      "execution_count": 13,
      "outputs": [
        {
          "output_type": "stream",
          "text": [
            "(3200, 150, 150, 3) (1000, 150, 150, 3)\n"
          ],
          "name": "stdout"
        }
      ]
    },
    {
      "metadata": {
        "id": "QAgbBOzBMfZI",
        "colab_type": "text"
      },
      "cell_type": "markdown",
      "source": [
        "## Step 2\n",
        "At this point, the data has been split into training and testing sets and normalized. We will now design a fully connected neural network for texture classification. \n",
        "\n",
        "\n",
        "![alt text](http://adventuresinmachinelearning.com/wp-content/uploads/2017/04/CNN-example-block-diagram.jpg)\n",
        "\n",
        "\n",
        "( Image from http://adventuresinmachinelearning.com/keras-tutorial-cnn-11-lines/ )\n",
        "\n",
        "When designing a fully connected network for classification, we have several decisions to make.\n",
        "\n",
        "**Network Architecuture**\n",
        "* How many layers will our network have ?\n",
        "* How many convolutional filters per layer ?\n",
        "    * What is an appropriate filter size ? \n",
        "* What is an appropriate batch size, learning rate and number of training epochs ?\n",
        "\n",
        "**Data input**\n",
        "* Do we use the raw data ?\n",
        "    * RGB or just gray channel ?\n",
        "* Does the use of different colorspaces lead to better results for a given network architecture ?\n",
        "* Can we use any of the texture features from the previous lab as inputs to this model ?\n",
        "* How does data augmentation affect the results ? \n",
        "\n",
        "Other considerations, we will not be exploring :\n",
        "* What is the trade-off between input data sizes and batch size ?\n",
        "* Is the GPU always the appropriate platform for training ?\n",
        "* How does hardware influence inputs and batch sizes for a given desired accuracy ?"
      ]
    },
    {
      "metadata": {
        "id": "Q2iSGtOuMfZP",
        "colab_type": "text"
      },
      "cell_type": "markdown",
      "source": [
        "## Step 3\n",
        "Design your network here using Keras"
      ]
    },
    {
      "metadata": {
        "id": "OsffMC7mMfZQ",
        "colab_type": "code",
        "colab": {
          "base_uri": "https://localhost:8080/",
          "height": 374
        },
        "outputId": "4a0263e8-2783-404b-8497-79c2b2561a26"
      },
      "cell_type": "code",
      "source": [
        "# Create your network\n",
        "print(X_train[0].shape)\n",
        "model = Sequential()\n",
        "model.add(Conv2D(filters=18, kernel_size=(3,3), strides=1, padding='same', activation='relu', input_shape=X_train[0].shape))\n",
        "model.add(MaxPool2D(pool_size=3, padding='valid'))\n",
        "model.add(Flatten())\n",
        "model.add(Dense(64, activation='relu'))\n",
        "model.add(Dense(64, activation='relu'))\n",
        "model.add(Dense(train_labels.shape[1], activation='softmax'))\n",
        "print(model.summary())  # view model\n"
      ],
      "execution_count": 14,
      "outputs": [
        {
          "output_type": "stream",
          "text": [
            "(150, 150, 3)\n",
            "_________________________________________________________________\n",
            "Layer (type)                 Output Shape              Param #   \n",
            "=================================================================\n",
            "conv2d_1 (Conv2D)            (None, 150, 150, 18)      504       \n",
            "_________________________________________________________________\n",
            "max_pooling2d_1 (MaxPooling2 (None, 50, 50, 18)        0         \n",
            "_________________________________________________________________\n",
            "flatten_1 (Flatten)          (None, 45000)             0         \n",
            "_________________________________________________________________\n",
            "dense_3 (Dense)              (None, 64)                2880064   \n",
            "_________________________________________________________________\n",
            "dense_4 (Dense)              (None, 64)                4160      \n",
            "_________________________________________________________________\n",
            "dense_5 (Dense)              (None, 8)                 520       \n",
            "=================================================================\n",
            "Total params: 2,885,248\n",
            "Trainable params: 2,885,248\n",
            "Non-trainable params: 0\n",
            "_________________________________________________________________\n",
            "None\n"
          ],
          "name": "stdout"
        }
      ]
    },
    {
      "metadata": {
        "id": "3DwOWHAVMfZU",
        "colab_type": "text"
      },
      "cell_type": "markdown",
      "source": [
        "## Step 4\n",
        "Compile the model you designed. Compiltation of the Keras model results in the initialization of model weights and sets other model properties."
      ]
    },
    {
      "metadata": {
        "id": "azIn2h-PMfZV",
        "colab_type": "code",
        "colab": {}
      },
      "cell_type": "code",
      "source": [
        "lr =  .0008# choose a learning rate, this will be a good paramter to tune\n",
        "model.compile( optimizer=tf.train.AdamOptimizer(lr), loss=keras.losses.categorical_crossentropy, metrics = ['accuracy'] )"
      ],
      "execution_count": 0,
      "outputs": []
    },
    {
      "metadata": {
        "id": "9afYIYb6MfZZ",
        "colab_type": "text"
      },
      "cell_type": "markdown",
      "source": [
        "## Step 5\n",
        "Train model"
      ]
    },
    {
      "metadata": {
        "id": "_ngFO-dYMfZa",
        "colab_type": "code",
        "colab": {
          "base_uri": "https://localhost:8080/",
          "height": 496
        },
        "outputId": "0fa4a584-cad2-4536-fd85-45f4d00a5ef6"
      },
      "cell_type": "code",
      "source": [
        "print(X_val.shape, val_labels.shape)\n",
        "model.fit(X_train, train_labels, epochs= 12, batch_size= 2, validation_data=(X_val, val_labels), verbose=1)"
      ],
      "execution_count": 17,
      "outputs": [
        {
          "output_type": "stream",
          "text": [
            "(800, 150, 150, 3) (800, 8)\n",
            "Train on 3200 samples, validate on 800 samples\n",
            "Epoch 1/12\n",
            "1142/3200 [=========>....................] - ETA: 1:06 - loss: 0.1055 - acc: 0.9623"
          ],
          "name": "stdout"
        },
        {
          "output_type": "stream",
          "text": [
            "3200/3200 [==============================] - 113s 35ms/step - loss: 0.0737 - acc: 0.9762 - val_loss: 10.3993 - val_acc: 0.3538\n",
            "Epoch 2/12\n",
            " 118/3200 [>.............................] - ETA: 1:40 - loss: 0.0046 - acc: 1.0000"
          ],
          "name": "stdout"
        },
        {
          "output_type": "stream",
          "text": [
            "3198/3200 [============================>.] - ETA: 0s - loss: 0.0787 - acc: 0.9775"
          ],
          "name": "stdout"
        },
        {
          "output_type": "stream",
          "text": [
            "3200/3200 [==============================] - 114s 36ms/step - loss: 0.0789 - acc: 0.9772 - val_loss: 9.8121 - val_acc: 0.3912\n",
            "Epoch 3/12\n",
            " 906/3200 [=======>......................] - ETA: 1:11 - loss: 0.0464 - acc: 0.9845"
          ],
          "name": "stdout"
        },
        {
          "output_type": "stream",
          "text": [
            "3200/3200 [==============================] - 111s 35ms/step - loss: 0.0775 - acc: 0.9778 - val_loss: 9.9732 - val_acc: 0.3812\n",
            "Epoch 4/12\n",
            "  38/3200 [..............................] - ETA: 1:38 - loss: 0.0148 - acc: 1.0000"
          ],
          "name": "stdout"
        },
        {
          "output_type": "stream",
          "text": [
            "2558/3200 [======================>.......] - ETA: 20s - loss: 0.0818 - acc: 0.9758"
          ],
          "name": "stdout"
        },
        {
          "output_type": "stream",
          "text": [
            "3200/3200 [==============================] - 111s 35ms/step - loss: 0.0824 - acc: 0.9756 - val_loss: 10.8793 - val_acc: 0.3225\n",
            "Epoch 5/12\n",
            " 660/3200 [=====>........................] - ETA: 1:20 - loss: 0.0494 - acc: 0.9848"
          ],
          "name": "stdout"
        },
        {
          "output_type": "stream",
          "text": [
            "3198/3200 [============================>.] - ETA: 0s - loss: 0.0391 - acc: 0.9891"
          ],
          "name": "stdout"
        },
        {
          "output_type": "stream",
          "text": [
            "3200/3200 [==============================] - 112s 35ms/step - loss: 0.0391 - acc: 0.9891 - val_loss: 10.3741 - val_acc: 0.3563\n",
            "Epoch 6/12\n",
            " 878/3200 [=======>......................] - ETA: 1:14 - loss: 0.0322 - acc: 0.9886"
          ],
          "name": "stdout"
        },
        {
          "output_type": "stream",
          "text": [
            "3200/3200 [==============================] - 111s 35ms/step - loss: 0.0488 - acc: 0.9875 - val_loss: 10.0882 - val_acc: 0.3738\n",
            "Epoch 7/12\n",
            "  34/3200 [..............................] - ETA: 1:40 - loss: 0.1107 - acc: 0.9412"
          ],
          "name": "stdout"
        },
        {
          "output_type": "stream",
          "text": [
            "2554/3200 [======================>.......] - ETA: 20s - loss: 0.0513 - acc: 0.9828"
          ],
          "name": "stdout"
        },
        {
          "output_type": "stream",
          "text": [
            "3200/3200 [==============================] - 113s 35ms/step - loss: 0.0835 - acc: 0.9744 - val_loss: 10.5600 - val_acc: 0.3438\n",
            "Epoch 8/12\n",
            " 640/3200 [=====>........................] - ETA: 1:21 - loss: 0.0711 - acc: 0.9875"
          ],
          "name": "stdout"
        },
        {
          "output_type": "stream",
          "text": [
            "3198/3200 [============================>.] - ETA: 0s - loss: 0.0567 - acc: 0.9878"
          ],
          "name": "stdout"
        },
        {
          "output_type": "stream",
          "text": [
            "3200/3200 [==============================] - 111s 35ms/step - loss: 0.0566 - acc: 0.9878 - val_loss: 10.0048 - val_acc: 0.3775\n",
            "Epoch 9/12\n",
            " 894/3200 [=======>......................] - ETA: 1:13 - loss: 0.0163 - acc: 0.9978"
          ],
          "name": "stdout"
        },
        {
          "output_type": "stream",
          "text": [
            "3200/3200 [==============================] - 111s 35ms/step - loss: 0.0596 - acc: 0.9891 - val_loss: 10.8127 - val_acc: 0.3275\n",
            "Epoch 10/12\n",
            "  30/3200 [..............................] - ETA: 1:38 - loss: 0.1056 - acc: 0.9667"
          ],
          "name": "stdout"
        },
        {
          "output_type": "stream",
          "text": [
            "2578/3200 [=======================>......] - ETA: 19s - loss: 0.1011 - acc: 0.9694"
          ],
          "name": "stdout"
        },
        {
          "output_type": "stream",
          "text": [
            "3200/3200 [==============================] - 112s 35ms/step - loss: 0.0858 - acc: 0.9747 - val_loss: 9.8077 - val_acc: 0.3912\n",
            "Epoch 11/12\n",
            " 654/3200 [=====>........................] - ETA: 1:20 - loss: 0.0299 - acc: 0.9878"
          ],
          "name": "stdout"
        },
        {
          "output_type": "stream",
          "text": [
            "3198/3200 [============================>.] - ETA: 0s - loss: 0.0351 - acc: 0.9887"
          ],
          "name": "stdout"
        },
        {
          "output_type": "stream",
          "text": [
            "3200/3200 [==============================] - 110s 34ms/step - loss: 0.0351 - acc: 0.9888 - val_loss: 10.8782 - val_acc: 0.3237\n",
            "Epoch 12/12\n",
            " 896/3200 [=======>......................] - ETA: 1:10 - loss: 0.1371 - acc: 0.9754"
          ],
          "name": "stdout"
        },
        {
          "output_type": "stream",
          "text": [
            "3200/3200 [==============================] - 109s 34ms/step - loss: 0.0674 - acc: 0.9844 - val_loss: 10.0738 - val_acc: 0.3750\n"
          ],
          "name": "stdout"
        },
        {
          "output_type": "execute_result",
          "data": {
            "text/plain": [
              "<tensorflow.python.keras.callbacks.History at 0x7effb677c050>"
            ]
          },
          "metadata": {
            "tags": []
          },
          "execution_count": 17
        }
      ]
    },
    {
      "metadata": {
        "id": "sjAqutu2MfZf",
        "colab_type": "text"
      },
      "cell_type": "markdown",
      "source": [
        "## Step 6\n",
        "See how your model performs by uisng it for inference.\n",
        "* What is the accuracy of classification ?\n",
        "* Change your model, re-compile and test. Can you improve the accuracy of the model ?\n"
      ]
    },
    {
      "metadata": {
        "id": "5M0N76AoMfZf",
        "colab_type": "code",
        "colab": {}
      },
      "cell_type": "code",
      "source": [
        "# predict labels - use the test set for prediction\n",
        "pred_labels = model.predict_proba(X_test)"
      ],
      "execution_count": 0,
      "outputs": []
    },
    {
      "metadata": {
        "id": "Xnuyx0QFMfZk",
        "colab_type": "code",
        "colab": {
          "base_uri": "https://localhost:8080/",
          "height": 170
        },
        "outputId": "82da2d0a-5b18-46df-9932-4d683a2ad9f5"
      },
      "cell_type": "code",
      "source": [
        "from sklearn.metrics import accuracy_score\n",
        "from sklearn.metrics import confusion_matrix\n",
        "\n",
        "# We need to convert the categorical array test_labels into a vector\n",
        "# in order to use it in the calculation of the confusion matrix\n",
        "mat = confusion_matrix(np.argmax(test_labels, axis=1), np.argmax(pred_labels, axis=1))\n",
        "acc = accuracy_score(np.argmax(test_labels, axis=1), np.argmax(pred_labels, axis=1))\n",
        "print(acc)\n",
        "print(mat)"
      ],
      "execution_count": 22,
      "outputs": [
        {
          "output_type": "stream",
          "text": [
            "0.655\n",
            "[[ 66  12  42   0  11   0   0   0]\n",
            " [  3  79   5  20  10   0   2   0]\n",
            " [ 19   0  91   0   3   0   0  11]\n",
            " [  0  19   0  65   7   0  16   0]\n",
            " [ 27  37  23   5  41   0   4   0]\n",
            " [  0   0   0   0   0 124   0   1]\n",
            " [  0  12   0  14   1   0 106   0]\n",
            " [  0   1   5   0   0  35   0  83]]\n"
          ],
          "name": "stdout"
        }
      ]
    },
    {
      "metadata": {
        "id": "h7RYbDzyMfZm",
        "colab_type": "code",
        "colab": {
          "base_uri": "https://localhost:8080/",
          "height": 388
        },
        "outputId": "9dc045d9-572b-4509-b8ee-43f8cb64d7c4"
      },
      "cell_type": "code",
      "source": [
        "plt.figure(figsize=(8,6))\n",
        "plt.imshow(mat, cmap='hot', interpolation='nearest')\n",
        "plt.grid(False)\n",
        "plt.colorbar()\n",
        "plt.xlabel('true label')\n",
        "plt.ylabel('predicted label')\n",
        "plt.show()"
      ],
      "execution_count": 23,
      "outputs": [
        {
          "output_type": "display_data",
          "data": {
            "image/png": "[encoded data removed]",
            "text/plain": [
              "<matplotlib.figure.Figure at 0x7effb5f11290>"
            ]
          },
          "metadata": {
            "tags": []
          }
        }
      ]
    },
    {
      "metadata": {
        "id": "p6atMD6vMfZs",
        "colab_type": "text"
      },
      "cell_type": "markdown",
      "source": [
        "## Assignment\n",
        "* In Step 3 design your own network\n",
        "* Does the model perform better if you use all three RGB channels ?\n",
        "* How does the performance change when using the La*b colorspace ?\n"
      ]
    }
  ]
}