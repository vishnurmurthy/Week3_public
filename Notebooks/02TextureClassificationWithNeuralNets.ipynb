{
  "nbformat": 4,
  "nbformat_minor": 0,
  "metadata": {
    "colab": {
      "name": "02TextureClassificationWithNeuralNets.ipynb",
      "version": "0.3.2",
      "provenance": [],
      "collapsed_sections": []
    },
    "kernelspec": {
      "display_name": "Python 2",
      "language": "python",
      "name": "python2"
    }
  },
  "cells": [
    {
      "metadata": {
        "id": "PBk7hgRJ4hRE",
        "colab_type": "text"
      },
      "cell_type": "markdown",
      "source": [
        "# Tissue Classification using Neural Networks\n",
        "In this lab we will explore the use of texture in images and traditional machine learning approaches such as clustering. The dataset we will be using is available here: http://dx.doi.org/10.5281/zenodo.53169. \n",
        "\n",
        "![alt text](https://www.researchgate.net/profile/Jakob_Kather/publication/303998214/figure/fig7/AS:391073710002224@1470250646407/Representative-images-from-our-dataset-Here-the-first-10-images-of-every-tissue-class.png)\n",
        "\n",
        "The above figure shows the 8 different classes of tissue we will be trying to identify. "
      ]
    },
    {
      "metadata": {
        "id": "j9HUVMyJ4hRG",
        "colab_type": "code",
        "colab": {}
      },
      "cell_type": "code",
      "source": [
        "# Imports\n",
        "from __future__ import print_function\n",
        "import os\n",
        "import numpy as np\n",
        "import matplotlib.pylab as plt\n",
        "from sklearn.model_selection import train_test_split\n",
        "from tensorflow.keras import Sequential\n",
        "from tensorflow.keras.layers import Dense\n",
        "from tensorflow.keras.optimizers import SGD\n",
        "from tensorflow.keras.utils import to_categorical\n",
        "from skimage.transform import rescale, resize, downscale_local_mean"
      ],
      "execution_count": 0,
      "outputs": []
    },
    {
      "metadata": {
        "id": "0rWqAlD84hRN",
        "colab_type": "text"
      },
      "cell_type": "markdown",
      "source": [
        "## Step 1\n",
        "* Load the data (done for you)\n",
        " * The \"data\" variable stores 5000 images of shape 150x150. This means data has shape (5000, 150, 150). These images are loaded here as grayscale.\n",
        " * The \"labels\" variable stores 5000 labels (0-7). This means \"labels\" has shape (5000,)\n",
        "* Split data into training and testing subsets (left up to you)\n",
        " * Check out the sklearn function train_test_split from sklearn.model_selection"
      ]
    },
    {
      "metadata": {
        "id": "mJo-Fc6A4hRP",
        "colab_type": "code",
        "colab": {
          "base_uri": "https://localhost:8080/",
          "height": 34
        },
        "outputId": "071e96fe-dd5c-481d-907a-bfd463360354"
      },
      "cell_type": "code",
      "source": [
        "! git clone https://github.com/BeaverWorksMedlytics/Week3_public.git\n",
        "\n",
        "# Build the path to the data folder. No need to change directories\n",
        "# There are a total of 6 files you will have to load\n",
        "data_dir = os.path.join( os.getcwd(), 'Week3_public', 'data', 'crc')"
      ],
      "execution_count": 2,
      "outputs": [
        {
          "output_type": "stream",
          "text": [
            "fatal: destination path 'Week3_public' already exists and is not an empty directory.\r\n"
          ],
          "name": "stdout"
        }
      ]
    },
    {
      "metadata": {
        "id": "HKTScej54hRU",
        "colab_type": "code",
        "colab": {
          "base_uri": "https://localhost:8080/",
          "height": 204
        },
        "outputId": "1e0a34a0-c3b8-45fc-853b-4b77ce78e70e"
      },
      "cell_type": "code",
      "source": [
        "# Load data and split into training, testing sets\n",
        "y = np.load(os.path.join(data_dir, 'rgb01.npz'))\n",
        "labels = y['labels']\n",
        "data = y['rgb_data']\n",
        "data = data[:,:,:,0]\n",
        "label_str = y['label_str']\n",
        "label_str = label_str.tolist() # this is to convert label_str back to a dictionary\n",
        "y = []\n",
        "\n",
        "print(data.shape)\n",
        "for ii in range(2,6):\n",
        "    filename = os.path.join(data_dir, 'rgb0' + str(ii) + '.npz')\n",
        "    print('loading ', filename)\n",
        "    y = np.load(filename)\n",
        "    labels = np.append(labels, y['labels'], axis=0)\n",
        "    data = np.append(data, y['rgb_data'][:,:,:,0], axis=0)\n",
        "    print(data.shape)\n",
        "    y = []\n",
        "\n",
        "\n",
        "print( data.shape )\n",
        "print( labels.shape )"
      ],
      "execution_count": 3,
      "outputs": [
        {
          "output_type": "stream",
          "text": [
            "(1000, 150, 150)\n",
            "loading  /content/Week3_public/data/crc/rgb02.npz\n",
            "(2000, 150, 150)\n",
            "loading  /content/Week3_public/data/crc/rgb03.npz\n",
            "(3000, 150, 150)\n",
            "loading  /content/Week3_public/data/crc/rgb04.npz\n",
            "(4000, 150, 150)\n",
            "loading  /content/Week3_public/data/crc/rgb05.npz\n",
            "(5000, 150, 150)\n",
            "(5000, 150, 150)\n",
            "(5000,)\n"
          ],
          "name": "stdout"
        }
      ]
    },
    {
      "metadata": {
        "id": "k55a7z6L4hRW",
        "colab_type": "code",
        "colab": {
          "base_uri": "https://localhost:8080/",
          "height": 289
        },
        "outputId": "07eb9094-94db-4a19-f881-84bbf7fb242e"
      },
      "cell_type": "code",
      "source": [
        "num_images, nrows, ncols = data.shape\n",
        "\n",
        "test_size=0.2\n",
        "train_size = 0.8\n",
        "\n",
        "X_train, X_test, train_labels, test_labels = train_test_split(data, labels, test_size=test_size, random_state=0)\n",
        "X_train = X_train.astype('float64')\n",
        "X_test = X_test.astype('float64')\n",
        "\n",
        "train_labels = to_categorical(train_labels, 8)\n",
        "test_labels = to_categorical(test_labels, 8)\n",
        "\n",
        "print(X_train.shape)\n",
        "print(X_test.shape)\n",
        "print(train_labels)\n",
        "print(test_labels)"
      ],
      "execution_count": 4,
      "outputs": [
        {
          "output_type": "stream",
          "text": [
            "(4000, 150, 150)\n",
            "(1000, 150, 150)\n",
            "[[0. 0. 0. ... 0. 0. 0.]\n",
            " [0. 0. 0. ... 1. 0. 0.]\n",
            " [0. 1. 0. ... 0. 0. 0.]\n",
            " ...\n",
            " [0. 0. 1. ... 0. 0. 0.]\n",
            " [0. 0. 0. ... 0. 0. 0.]\n",
            " [0. 0. 0. ... 0. 0. 0.]]\n",
            "[[1. 0. 0. ... 0. 0. 0.]\n",
            " [0. 0. 0. ... 0. 1. 0.]\n",
            " [0. 0. 0. ... 0. 0. 1.]\n",
            " ...\n",
            " [0. 1. 0. ... 0. 0. 0.]\n",
            " [0. 0. 1. ... 0. 0. 0.]\n",
            " [0. 0. 0. ... 1. 0. 0.]]\n"
          ],
          "name": "stdout"
        }
      ]
    },
    {
      "metadata": {
        "id": "955WO4HE4hRZ",
        "colab_type": "text"
      },
      "cell_type": "markdown",
      "source": [
        "## Normalize and Reshape Data\n",
        "All images should be normalized to the range 0-1 by dividing by 255.\n",
        "\n",
        "Additionally, because this is a ANN, not a CNN, we need to reshape the data to be one dimensional. In training and test data, colapse the row and column dimensions into one dimension using reshape().\n",
        "#### Note\n",
        "* Using the La\\*b colorspace : If you convert your images to the La\\*b colorspace, the scaling factor will change. Each channel in this colorspace will have a different range and normalization of each space will involve scaling each channel separately. Additionally, the a\\* channel can have a negative range. This also needs to be taken into account. \n",
        "* Using the HSV/HSI colorspace : Similar considerations apply if you are using the HSV/HSI colorspace. The only difference is that the HSV/HSI colorspace will have all positive values."
      ]
    },
    {
      "metadata": {
        "id": "eWkDphoh4hRa",
        "colab_type": "code",
        "colab": {
          "base_uri": "https://localhost:8080/",
          "height": 88
        },
        "outputId": "d7d7016c-2a2e-4b20-cfac-d50b62bfe9fb"
      },
      "cell_type": "code",
      "source": [
        "# Assuming we are using the RGB colorspace\n",
        "# Normalize all images so that they are 0-1\n",
        "X_train_new = np.zeros((4000,64,64))\n",
        "X_test_new = np.zeros((1000,64,64))\n",
        "\n",
        "for i in range(len(X_train)):\n",
        "  X_train_new[i] = resize(image=X_train[i], output_shape=(64, 64))\n",
        "\n",
        "for i in range(len(X_test)):\n",
        "  X_test_new[i] = resize(image=X_test[i], output_shape=(64, 64))\n",
        "  \n",
        "X_train = X_train_new\n",
        "X_test = X_test_new\n",
        "num_images, nrows, ncols = X_train.shape\n",
        "\n",
        "for i in range(len(X_train)):\n",
        "  X_train[i][0] = X_train[i][0]/255\n",
        "  X_train[i][1] = X_train[i][1]/255\n",
        "  X_train[i][2] = X_train[i][2]/255\n",
        "\n",
        "for i in range(len(X_test)):\n",
        "  X_test[i][0] = X_test[i][0]/255\n",
        "  X_test[i][1] = X_test[i][1]/255\n",
        "  X_test[i][2] = X_test[i][2]/255\n",
        "\n",
        "X_train = X_train.reshape(4000, nrows*ncols)\n",
        "X_test = X_test.reshape(1000, nrows*ncols)\n",
        "\n",
        "print(X_train.shape, X_test.shape)"
      ],
      "execution_count": 5,
      "outputs": [
        {
          "output_type": "stream",
          "text": [
            "/usr/local/lib/python2.7/dist-packages/skimage/transform/_warps.py:84: UserWarning: The default mode, 'constant', will be changed to 'reflect' in skimage 0.15.\n",
            "  warn(\"The default mode, 'constant', will be changed to 'reflect' in \"\n"
          ],
          "name": "stderr"
        },
        {
          "output_type": "stream",
          "text": [
            "(4000, 4096) (1000, 4096)\n"
          ],
          "name": "stdout"
        }
      ]
    },
    {
      "metadata": {
        "id": "zPC7bjF74hRc",
        "colab_type": "text"
      },
      "cell_type": "markdown",
      "source": [
        "## Step 2\n",
        "At this point, the data has been split into training and testing sets and normalized. We will now design a fully connected neural network for texture classification. \n",
        "\n",
        "<img src=\"http://cs231n.github.io/assets/nn1/neural_net2.jpeg\" width=\"50%\"></img>\n",
        "\n",
        "( Image from http://cs231n.github.io/convolutional-networks/ )\n",
        "\n",
        "When designing a fully connected network for classification, we have several decisions to make.\n",
        "\n",
        "**Network Architecuture**\n",
        "* How many layers will our network have ?\n",
        "* How many neurons per layer ?\n",
        "* What is an appropriate batch size, learning rate and number of training epochs ?\n",
        "\n",
        "**Data input**\n",
        "* Do we use the raw data ?\n",
        "    * RGB or just gray channel ?\n",
        "* Does the use of different colorspaces lead to better results for a given network architecture ?\n",
        "* Can we use any of the texture features from the previous lab as inputs to this model ?\n",
        "* How does data augmentation affect the results ? \n",
        "\n",
        "Other considerations, we will not be exploring :\n",
        "* What is the trade-off between input data sizes and batch size ?\n",
        "* Is the GPU always the appropriate platform for training ?\n",
        "* How does hardware influence inputs and batch sizes for a given desired accuracy ?"
      ]
    },
    {
      "metadata": {
        "id": "rm8iHsFF4hRd",
        "colab_type": "code",
        "colab": {}
      },
      "cell_type": "code",
      "source": [
        "# Define the data shapes based on your decision to use rgb or grayscale or other colorpsaces or texture features or \n",
        "# some combination of these inputs\n",
        "num_classes = 8 \n",
        "input_shape = nrows*ncols"
      ],
      "execution_count": 0,
      "outputs": []
    },
    {
      "metadata": {
        "id": "q4Q3AADK4hRg",
        "colab_type": "text"
      },
      "cell_type": "markdown",
      "source": [
        "## Step 3\n",
        "Design your network here using Keras"
      ]
    },
    {
      "metadata": {
        "id": "18Mpluyc4hRg",
        "colab_type": "code",
        "colab": {
          "base_uri": "https://localhost:8080/",
          "height": 306
        },
        "outputId": "1ca572ba-84d6-481f-a879-2aa05605af51"
      },
      "cell_type": "code",
      "source": [
        "# Create your network\n",
        "model = Sequential()\n",
        "model.add(Dense(64, input_shape=X_train[0].shape, activation='relu'))   # hidden layer with 512 units and relu activation\n",
        "model.add(Dense(64, activation='relu'))\n",
        "model.add(Dense(64, activation='relu'))\n",
        "model.add(Dense(64, activation='relu'))\n",
        "\n",
        "model.add(Dense(train_labels[0].shape[0], activation='softmax'))   # output layer with 10 units and softmax activation\n",
        "model.compile(loss='categorical_crossentropy',\n",
        "              optimizer='rmsprop',\n",
        "              metrics=['accuracy'])\n",
        "model.summary()\n"
      ],
      "execution_count": 7,
      "outputs": [
        {
          "output_type": "stream",
          "text": [
            "_________________________________________________________________\n",
            "Layer (type)                 Output Shape              Param #   \n",
            "=================================================================\n",
            "dense (Dense)                (None, 64)                262208    \n",
            "_________________________________________________________________\n",
            "dense_1 (Dense)              (None, 64)                4160      \n",
            "_________________________________________________________________\n",
            "dense_2 (Dense)              (None, 64)                4160      \n",
            "_________________________________________________________________\n",
            "dense_3 (Dense)              (None, 64)                4160      \n",
            "_________________________________________________________________\n",
            "dense_4 (Dense)              (None, 8)                 520       \n",
            "=================================================================\n",
            "Total params: 275,208\n",
            "Trainable params: 275,208\n",
            "Non-trainable params: 0\n",
            "_________________________________________________________________\n"
          ],
          "name": "stdout"
        }
      ]
    },
    {
      "metadata": {
        "id": "hMXqy9jM4hRn",
        "colab_type": "text"
      },
      "cell_type": "markdown",
      "source": [
        "## Step 5\n",
        "Train model"
      ]
    },
    {
      "metadata": {
        "id": "o0s4RNTs4hRo",
        "colab_type": "code",
        "colab": {
          "base_uri": "https://localhost:8080/",
          "height": 6854
        },
        "outputId": "e6210900-03a1-4544-bff6-9517539d5851"
      },
      "cell_type": "code",
      "source": [
        "model.fit(X_train, train_labels, epochs=200)"
      ],
      "execution_count": 8,
      "outputs": [
        {
          "output_type": "stream",
          "text": [
            "Epoch 1/200\n",
            "4000/4000 [==============================] - 1s 253us/step - loss: 14.1171 - acc: 0.1232\n",
            "Epoch 2/200\n",
            "4000/4000 [==============================] - 1s 208us/step - loss: 14.1356 - acc: 0.1230\n",
            "Epoch 3/200\n",
            "4000/4000 [==============================] - 1s 204us/step - loss: 14.1356 - acc: 0.1230\n",
            "Epoch 4/200\n",
            "4000/4000 [==============================] - 1s 206us/step - loss: 14.1356 - acc: 0.1230\n",
            "Epoch 5/200\n",
            "4000/4000 [==============================] - 1s 202us/step - loss: 14.1356 - acc: 0.1230\n",
            "Epoch 6/200\n",
            "4000/4000 [==============================] - 1s 203us/step - loss: 14.1356 - acc: 0.1230\n",
            "Epoch 7/200\n",
            "4000/4000 [==============================] - 1s 202us/step - loss: 14.1356 - acc: 0.1230\n",
            "Epoch 8/200\n",
            "4000/4000 [==============================] - 1s 209us/step - loss: 14.1356 - acc: 0.1230\n",
            "Epoch 9/200\n",
            "4000/4000 [==============================] - 1s 209us/step - loss: 14.1356 - acc: 0.1230\n",
            "Epoch 10/200\n",
            "4000/4000 [==============================] - 1s 201us/step - loss: 14.1356 - acc: 0.1230\n",
            "Epoch 11/200\n",
            "1152/4000 [=======>......................] - ETA: 0s - loss: 14.0194 - acc: 0.1302"
          ],
          "name": "stdout"
        },
        {
          "output_type": "stream",
          "text": [
            "4000/4000 [==============================] - 1s 195us/step - loss: 14.1356 - acc: 0.1230\n",
            "Epoch 12/200\n",
            "4000/4000 [==============================] - 1s 197us/step - loss: 14.1356 - acc: 0.1230\n",
            "Epoch 13/200\n",
            "4000/4000 [==============================] - 1s 195us/step - loss: 14.1356 - acc: 0.1230\n",
            "Epoch 14/200\n",
            "4000/4000 [==============================] - 1s 207us/step - loss: 14.1356 - acc: 0.1230\n",
            "Epoch 15/200\n",
            "4000/4000 [==============================] - 1s 200us/step - loss: 14.1356 - acc: 0.1230\n",
            "Epoch 16/200\n",
            "4000/4000 [==============================] - 1s 196us/step - loss: 14.1356 - acc: 0.1230\n",
            "Epoch 17/200\n",
            "4000/4000 [==============================] - 1s 198us/step - loss: 14.1356 - acc: 0.1230\n",
            "Epoch 18/200\n",
            "4000/4000 [==============================] - 1s 200us/step - loss: 14.1356 - acc: 0.1230\n",
            "Epoch 19/200\n",
            "4000/4000 [==============================] - 1s 199us/step - loss: 14.1356 - acc: 0.1230\n",
            "Epoch 20/200\n",
            "4000/4000 [==============================] - 1s 204us/step - loss: 14.1356 - acc: 0.1230\n",
            "Epoch 21/200\n",
            "2080/4000 [==============>...............] - ETA: 0s - loss: 14.1498 - acc: 0.1221"
          ],
          "name": "stdout"
        },
        {
          "output_type": "stream",
          "text": [
            "4000/4000 [==============================] - 1s 202us/step - loss: 14.1356 - acc: 0.1230\n",
            "Epoch 22/200\n",
            "4000/4000 [==============================] - 1s 213us/step - loss: 14.1356 - acc: 0.1230\n",
            "Epoch 23/200\n",
            "4000/4000 [==============================] - 1s 210us/step - loss: 14.1356 - acc: 0.1230\n",
            "Epoch 24/200\n",
            "4000/4000 [==============================] - 1s 201us/step - loss: 14.1356 - acc: 0.1230\n",
            "Epoch 25/200\n",
            "4000/4000 [==============================] - 1s 198us/step - loss: 14.1356 - acc: 0.1230\n",
            "Epoch 26/200\n",
            "4000/4000 [==============================] - 1s 203us/step - loss: 14.1356 - acc: 0.1230\n",
            "Epoch 27/200\n",
            "4000/4000 [==============================] - 1s 196us/step - loss: 14.1356 - acc: 0.1230\n",
            "Epoch 28/200\n",
            "4000/4000 [==============================] - 1s 199us/step - loss: 14.1356 - acc: 0.1230\n",
            "Epoch 29/200\n",
            "4000/4000 [==============================] - 1s 209us/step - loss: 14.1356 - acc: 0.1230\n",
            "Epoch 30/200\n",
            "4000/4000 [==============================] - 1s 211us/step - loss: 14.1356 - acc: 0.1230\n",
            "Epoch 31/200\n",
            "2144/4000 [===============>..............] - ETA: 0s - loss: 14.1785 - acc: 0.1203"
          ],
          "name": "stdout"
        },
        {
          "output_type": "stream",
          "text": [
            "4000/4000 [==============================] - 1s 202us/step - loss: 14.1356 - acc: 0.1230\n",
            "Epoch 32/200\n",
            "4000/4000 [==============================] - 1s 202us/step - loss: 14.1356 - acc: 0.1230\n",
            "Epoch 33/200\n",
            "4000/4000 [==============================] - 1s 205us/step - loss: 14.1356 - acc: 0.1230\n",
            "Epoch 34/200\n",
            "4000/4000 [==============================] - 1s 204us/step - loss: 14.1356 - acc: 0.1230\n",
            "Epoch 35/200\n",
            "4000/4000 [==============================] - 1s 212us/step - loss: 14.1356 - acc: 0.1230\n",
            "Epoch 36/200\n",
            "4000/4000 [==============================] - 1s 207us/step - loss: 14.1356 - acc: 0.1230\n",
            "Epoch 37/200\n",
            "4000/4000 [==============================] - 1s 207us/step - loss: 14.1356 - acc: 0.1230\n",
            "Epoch 38/200\n",
            "4000/4000 [==============================] - 1s 211us/step - loss: 14.1356 - acc: 0.1230\n",
            "Epoch 39/200\n",
            "4000/4000 [==============================] - 1s 204us/step - loss: 14.1356 - acc: 0.1230\n",
            "Epoch 40/200\n",
            "4000/4000 [==============================] - 1s 211us/step - loss: 14.1356 - acc: 0.1230\n",
            "Epoch 41/200\n",
            "1024/4000 [======>.......................] - ETA: 0s - loss: 14.1191 - acc: 0.1240"
          ],
          "name": "stdout"
        },
        {
          "output_type": "stream",
          "text": [
            "4000/4000 [==============================] - 1s 209us/step - loss: 14.1356 - acc: 0.1230\n",
            "Epoch 42/200\n",
            "4000/4000 [==============================] - 1s 207us/step - loss: 14.1356 - acc: 0.1230\n",
            "Epoch 43/200\n",
            "4000/4000 [==============================] - 1s 212us/step - loss: 14.1356 - acc: 0.1230\n",
            "Epoch 44/200\n",
            "4000/4000 [==============================] - 1s 205us/step - loss: 14.1356 - acc: 0.1230\n",
            "Epoch 45/200\n",
            "4000/4000 [==============================] - 1s 204us/step - loss: 14.1356 - acc: 0.1230\n",
            "Epoch 46/200\n",
            "4000/4000 [==============================] - 1s 208us/step - loss: 14.1356 - acc: 0.1230\n",
            "Epoch 47/200\n",
            "4000/4000 [==============================] - 1s 207us/step - loss: 14.1356 - acc: 0.1230\n",
            "Epoch 48/200\n",
            "4000/4000 [==============================] - 1s 206us/step - loss: 14.1356 - acc: 0.1230\n",
            "Epoch 49/200\n",
            "4000/4000 [==============================] - 1s 207us/step - loss: 14.1356 - acc: 0.1230\n",
            "Epoch 50/200\n",
            "4000/4000 [==============================] - 1s 208us/step - loss: 14.1356 - acc: 0.1230\n",
            "Epoch 51/200\n",
            " 768/4000 [====>.........................] - ETA: 0s - loss: 13.8305 - acc: 0.1419"
          ],
          "name": "stdout"
        },
        {
          "output_type": "stream",
          "text": [
            "4000/4000 [==============================] - 1s 208us/step - loss: 14.1356 - acc: 0.1230\n",
            "Epoch 52/200\n",
            "4000/4000 [==============================] - 1s 200us/step - loss: 14.1356 - acc: 0.1230\n",
            "Epoch 53/200\n",
            "4000/4000 [==============================] - 1s 204us/step - loss: 14.1356 - acc: 0.1230\n",
            "Epoch 54/200\n",
            "4000/4000 [==============================] - 1s 205us/step - loss: 14.1356 - acc: 0.1230\n",
            "Epoch 55/200\n",
            "4000/4000 [==============================] - 1s 208us/step - loss: 14.1356 - acc: 0.1230\n",
            "Epoch 56/200\n",
            "4000/4000 [==============================] - 1s 194us/step - loss: 14.1356 - acc: 0.1230\n",
            "Epoch 57/200\n",
            "4000/4000 [==============================] - 1s 203us/step - loss: 14.1356 - acc: 0.1230\n",
            "Epoch 58/200\n",
            "4000/4000 [==============================] - 1s 203us/step - loss: 14.1356 - acc: 0.1230\n",
            "Epoch 59/200\n",
            "4000/4000 [==============================] - 1s 198us/step - loss: 14.1356 - acc: 0.1230\n",
            "Epoch 60/200\n",
            "4000/4000 [==============================] - 1s 202us/step - loss: 14.1356 - acc: 0.1230\n",
            "Epoch 61/200\n",
            "1632/4000 [===========>..................] - ETA: 0s - loss: 14.0836 - acc: 0.1262"
          ],
          "name": "stdout"
        },
        {
          "output_type": "stream",
          "text": [
            "4000/4000 [==============================] - 1s 200us/step - loss: 14.1356 - acc: 0.1230\n",
            "Epoch 62/200\n",
            "4000/4000 [==============================] - 1s 206us/step - loss: 14.1356 - acc: 0.1230\n",
            "Epoch 63/200\n",
            "4000/4000 [==============================] - 1s 201us/step - loss: 14.1356 - acc: 0.1230\n",
            "Epoch 64/200\n",
            "4000/4000 [==============================] - 1s 194us/step - loss: 14.1356 - acc: 0.1230\n",
            "Epoch 65/200\n",
            "4000/4000 [==============================] - 1s 197us/step - loss: 14.1356 - acc: 0.1230\n",
            "Epoch 66/200\n",
            "4000/4000 [==============================] - 1s 195us/step - loss: 14.1356 - acc: 0.1230\n",
            "Epoch 67/200\n",
            "4000/4000 [==============================] - 1s 204us/step - loss: 14.1356 - acc: 0.1230\n",
            "Epoch 68/200\n",
            "4000/4000 [==============================] - 1s 201us/step - loss: 14.1356 - acc: 0.1230\n",
            "Epoch 69/200\n",
            "4000/4000 [==============================] - 1s 199us/step - loss: 14.1356 - acc: 0.1230\n",
            "Epoch 70/200\n",
            "4000/4000 [==============================] - 1s 199us/step - loss: 14.1356 - acc: 0.1230\n",
            "Epoch 71/200\n",
            "2240/4000 [===============>..............] - ETA: 0s - loss: 14.0889 - acc: 0.1259"
          ],
          "name": "stdout"
        },
        {
          "output_type": "stream",
          "text": [
            "4000/4000 [==============================] - 1s 194us/step - loss: 14.1356 - acc: 0.1230\n",
            "Epoch 72/200\n",
            "4000/4000 [==============================] - 1s 204us/step - loss: 14.1356 - acc: 0.1230\n",
            "Epoch 73/200\n",
            "4000/4000 [==============================] - 1s 201us/step - loss: 14.1356 - acc: 0.1230\n",
            "Epoch 74/200\n",
            "4000/4000 [==============================] - 1s 204us/step - loss: 14.1356 - acc: 0.1230\n",
            "Epoch 75/200\n",
            "4000/4000 [==============================] - 1s 204us/step - loss: 14.1356 - acc: 0.1230\n",
            "Epoch 76/200\n",
            "4000/4000 [==============================] - 1s 207us/step - loss: 14.1356 - acc: 0.1230\n",
            "Epoch 77/200\n",
            "4000/4000 [==============================] - 1s 201us/step - loss: 14.1356 - acc: 0.1230\n",
            "Epoch 78/200\n",
            "4000/4000 [==============================] - 1s 199us/step - loss: 14.1356 - acc: 0.1230\n",
            "Epoch 79/200\n",
            "4000/4000 [==============================] - 1s 203us/step - loss: 14.1356 - acc: 0.1230\n",
            "Epoch 80/200\n",
            "4000/4000 [==============================] - 1s 207us/step - loss: 14.1356 - acc: 0.1230\n",
            "Epoch 81/200\n",
            "2144/4000 [===============>..............] - ETA: 0s - loss: 14.1109 - acc: 0.1245"
          ],
          "name": "stdout"
        },
        {
          "output_type": "stream",
          "text": [
            "4000/4000 [==============================] - 1s 203us/step - loss: 14.1356 - acc: 0.1230\n",
            "Epoch 82/200\n",
            "4000/4000 [==============================] - 1s 207us/step - loss: 14.1356 - acc: 0.1230\n",
            "Epoch 83/200\n",
            "4000/4000 [==============================] - 1s 208us/step - loss: 14.1356 - acc: 0.1230\n",
            "Epoch 84/200\n",
            "4000/4000 [==============================] - 1s 203us/step - loss: 14.1356 - acc: 0.1230\n",
            "Epoch 85/200\n",
            "4000/4000 [==============================] - 1s 199us/step - loss: 14.1356 - acc: 0.1230\n",
            "Epoch 86/200\n",
            "4000/4000 [==============================] - 1s 199us/step - loss: 14.1356 - acc: 0.1230\n",
            "Epoch 87/200\n",
            "4000/4000 [==============================] - 1s 198us/step - loss: 14.1356 - acc: 0.1230\n",
            "Epoch 88/200\n",
            "4000/4000 [==============================] - 1s 197us/step - loss: 14.1356 - acc: 0.1230\n",
            "Epoch 89/200\n",
            "4000/4000 [==============================] - 1s 200us/step - loss: 14.1356 - acc: 0.1230\n",
            "Epoch 90/200\n",
            "4000/4000 [==============================] - 1s 202us/step - loss: 14.1356 - acc: 0.1230\n",
            "Epoch 91/200\n",
            "2656/4000 [==================>...........] - ETA: 0s - loss: 14.2247 - acc: 0.1175"
          ],
          "name": "stdout"
        },
        {
          "output_type": "stream",
          "text": [
            "4000/4000 [==============================] - 1s 202us/step - loss: 14.1356 - acc: 0.1230\n",
            "Epoch 92/200\n",
            "4000/4000 [==============================] - 1s 199us/step - loss: 14.1356 - acc: 0.1230\n",
            "Epoch 93/200\n",
            "4000/4000 [==============================] - 1s 197us/step - loss: 14.1356 - acc: 0.1230\n",
            "Epoch 94/200\n",
            "4000/4000 [==============================] - 1s 197us/step - loss: 14.1356 - acc: 0.1230\n",
            "Epoch 95/200\n",
            "4000/4000 [==============================] - 1s 196us/step - loss: 14.1356 - acc: 0.1230\n",
            "Epoch 96/200\n",
            "4000/4000 [==============================] - 1s 204us/step - loss: 14.1356 - acc: 0.1230\n",
            "Epoch 97/200\n",
            "4000/4000 [==============================] - 1s 200us/step - loss: 14.1356 - acc: 0.1230\n",
            "Epoch 98/200\n",
            "4000/4000 [==============================] - 1s 198us/step - loss: 14.1356 - acc: 0.1230\n",
            "Epoch 99/200\n",
            "4000/4000 [==============================] - 1s 201us/step - loss: 14.1356 - acc: 0.1230\n",
            "Epoch 100/200\n",
            "4000/4000 [==============================] - 1s 202us/step - loss: 14.1356 - acc: 0.1230\n",
            "Epoch 101/200\n",
            "2752/4000 [===================>..........] - ETA: 0s - loss: 14.1736 - acc: 0.1206"
          ],
          "name": "stdout"
        },
        {
          "output_type": "stream",
          "text": [
            "4000/4000 [==============================] - 1s 197us/step - loss: 14.1356 - acc: 0.1230\n",
            "Epoch 102/200\n",
            "4000/4000 [==============================] - 1s 201us/step - loss: 14.1356 - acc: 0.1230\n",
            "Epoch 103/200\n",
            "4000/4000 [==============================] - 1s 199us/step - loss: 14.1356 - acc: 0.1230\n",
            "Epoch 104/200\n",
            "4000/4000 [==============================] - 1s 202us/step - loss: 14.1356 - acc: 0.1230\n",
            "Epoch 105/200\n",
            "4000/4000 [==============================] - 1s 195us/step - loss: 14.1356 - acc: 0.1230\n",
            "Epoch 106/200\n",
            "4000/4000 [==============================] - 1s 202us/step - loss: 14.1356 - acc: 0.1230\n",
            "Epoch 107/200\n",
            "4000/4000 [==============================] - 1s 199us/step - loss: 14.1356 - acc: 0.1230\n",
            "Epoch 108/200\n",
            "4000/4000 [==============================] - 1s 199us/step - loss: 14.1356 - acc: 0.1230\n",
            "Epoch 109/200\n",
            "4000/4000 [==============================] - 1s 197us/step - loss: 14.1356 - acc: 0.1230\n",
            "Epoch 110/200\n",
            "4000/4000 [==============================] - 1s 212us/step - loss: 14.1356 - acc: 0.1230\n",
            "Epoch 111/200\n",
            "1888/4000 [=============>................] - ETA: 0s - loss: 14.2229 - acc: 0.1176"
          ],
          "name": "stdout"
        },
        {
          "output_type": "stream",
          "text": [
            "4000/4000 [==============================] - 1s 197us/step - loss: 14.1356 - acc: 0.1230\n",
            "Epoch 112/200\n",
            "4000/4000 [==============================] - 1s 207us/step - loss: 14.1356 - acc: 0.1230\n",
            "Epoch 113/200\n",
            "4000/4000 [==============================] - 1s 199us/step - loss: 14.1356 - acc: 0.1230\n",
            "Epoch 114/200\n",
            "4000/4000 [==============================] - 1s 204us/step - loss: 14.1356 - acc: 0.1230\n",
            "Epoch 115/200\n",
            "4000/4000 [==============================] - 1s 194us/step - loss: 14.1356 - acc: 0.1230\n",
            "Epoch 116/200\n",
            "4000/4000 [==============================] - 1s 201us/step - loss: 14.1356 - acc: 0.1230\n",
            "Epoch 117/200\n",
            "4000/4000 [==============================] - 1s 204us/step - loss: 14.1356 - acc: 0.1230\n",
            "Epoch 118/200\n",
            "4000/4000 [==============================] - 1s 210us/step - loss: 14.1356 - acc: 0.1230\n",
            "Epoch 119/200\n",
            "4000/4000 [==============================] - 1s 226us/step - loss: 14.1356 - acc: 0.1230\n",
            "Epoch 120/200\n",
            "4000/4000 [==============================] - 1s 225us/step - loss: 14.1356 - acc: 0.1230\n",
            "Epoch 121/200\n",
            " 896/4000 [=====>........................] - ETA: 0s - loss: 14.0314 - acc: 0.1295"
          ],
          "name": "stdout"
        },
        {
          "output_type": "stream",
          "text": [
            "4000/4000 [==============================] - 1s 230us/step - loss: 14.1356 - acc: 0.1230\n",
            "Epoch 122/200\n",
            "4000/4000 [==============================] - 1s 222us/step - loss: 14.1356 - acc: 0.1230\n",
            "Epoch 123/200\n",
            "4000/4000 [==============================] - 1s 237us/step - loss: 14.1356 - acc: 0.1230\n",
            "Epoch 124/200\n",
            "4000/4000 [==============================] - 1s 227us/step - loss: 14.1356 - acc: 0.1230\n",
            "Epoch 125/200\n",
            "4000/4000 [==============================] - 1s 231us/step - loss: 14.1356 - acc: 0.1230\n",
            "Epoch 126/200\n",
            "4000/4000 [==============================] - 1s 236us/step - loss: 14.1356 - acc: 0.1230\n",
            "Epoch 127/200\n",
            "4000/4000 [==============================] - 1s 234us/step - loss: 14.1356 - acc: 0.1230\n",
            "Epoch 128/200\n",
            "4000/4000 [==============================] - 1s 229us/step - loss: 14.1356 - acc: 0.1230\n",
            "Epoch 129/200\n",
            "4000/4000 [==============================] - 1s 226us/step - loss: 14.1356 - acc: 0.1230\n",
            "Epoch 130/200\n",
            "3840/4000 [===========================>..] - ETA: 0s - loss: 14.1243 - acc: 0.1237"
          ],
          "name": "stdout"
        },
        {
          "output_type": "stream",
          "text": [
            "4000/4000 [==============================] - 1s 213us/step - loss: 14.1356 - acc: 0.1230\n",
            "Epoch 131/200\n",
            "4000/4000 [==============================] - 1s 225us/step - loss: 14.1356 - acc: 0.1230\n",
            "Epoch 132/200\n",
            "4000/4000 [==============================] - 1s 228us/step - loss: 14.1356 - acc: 0.1230\n",
            "Epoch 133/200\n",
            "4000/4000 [==============================] - 1s 221us/step - loss: 14.1356 - acc: 0.1230\n",
            "Epoch 134/200\n",
            "4000/4000 [==============================] - 1s 225us/step - loss: 14.1356 - acc: 0.1230\n",
            "Epoch 135/200\n",
            "4000/4000 [==============================] - 1s 218us/step - loss: 14.1356 - acc: 0.1230\n",
            "Epoch 136/200\n",
            "4000/4000 [==============================] - 1s 211us/step - loss: 14.1356 - acc: 0.1230\n",
            "Epoch 137/200\n",
            "4000/4000 [==============================] - 1s 207us/step - loss: 14.1356 - acc: 0.1230\n",
            "Epoch 138/200\n",
            "4000/4000 [==============================] - 1s 200us/step - loss: 14.1356 - acc: 0.1230\n",
            "Epoch 139/200\n",
            "4000/4000 [==============================] - 1s 208us/step - loss: 14.1356 - acc: 0.1230\n",
            "Epoch 140/200\n",
            "1312/4000 [========>.....................] - ETA: 0s - loss: 14.3736 - acc: 0.1082"
          ],
          "name": "stdout"
        },
        {
          "output_type": "stream",
          "text": [
            "4000/4000 [==============================] - 1s 209us/step - loss: 14.1356 - acc: 0.1230\n",
            "Epoch 141/200\n",
            "4000/4000 [==============================] - 1s 204us/step - loss: 14.1356 - acc: 0.1230\n",
            "Epoch 142/200\n",
            "4000/4000 [==============================] - 1s 202us/step - loss: 14.1356 - acc: 0.1230\n",
            "Epoch 143/200\n",
            "4000/4000 [==============================] - 1s 200us/step - loss: 14.1356 - acc: 0.1230\n",
            "Epoch 144/200\n",
            "4000/4000 [==============================] - 1s 214us/step - loss: 14.1356 - acc: 0.1230\n",
            "Epoch 145/200\n",
            "4000/4000 [==============================] - 1s 214us/step - loss: 14.1356 - acc: 0.1230\n",
            "Epoch 146/200\n",
            "4000/4000 [==============================] - 1s 212us/step - loss: 14.1356 - acc: 0.1230\n",
            "Epoch 147/200\n",
            "4000/4000 [==============================] - 1s 212us/step - loss: 14.1356 - acc: 0.1230\n",
            "Epoch 148/200\n",
            "4000/4000 [==============================] - 1s 206us/step - loss: 14.1356 - acc: 0.1230\n",
            "Epoch 149/200\n",
            "4000/4000 [==============================] - 1s 206us/step - loss: 14.1356 - acc: 0.1230\n",
            "Epoch 150/200\n",
            "1024/4000 [======>.......................] - ETA: 0s - loss: 14.1191 - acc: 0.1240"
          ],
          "name": "stdout"
        },
        {
          "output_type": "stream",
          "text": [
            "4000/4000 [==============================] - 1s 209us/step - loss: 14.1356 - acc: 0.1230\n",
            "Epoch 151/200\n",
            "4000/4000 [==============================] - 1s 203us/step - loss: 14.1356 - acc: 0.1230\n",
            "Epoch 152/200\n",
            "4000/4000 [==============================] - 1s 209us/step - loss: 14.1356 - acc: 0.1230\n",
            "Epoch 153/200\n",
            "4000/4000 [==============================] - 1s 214us/step - loss: 14.1356 - acc: 0.1230\n",
            "Epoch 154/200\n",
            "4000/4000 [==============================] - 1s 206us/step - loss: 14.1356 - acc: 0.1230\n",
            "Epoch 155/200\n",
            "4000/4000 [==============================] - 1s 208us/step - loss: 14.1356 - acc: 0.1230\n",
            "Epoch 156/200\n",
            "4000/4000 [==============================] - 1s 214us/step - loss: 14.1356 - acc: 0.1230\n",
            "Epoch 157/200\n",
            "4000/4000 [==============================] - 1s 212us/step - loss: 14.1356 - acc: 0.1230\n",
            "Epoch 158/200\n",
            "4000/4000 [==============================] - 1s 208us/step - loss: 14.1356 - acc: 0.1230\n",
            "Epoch 159/200\n",
            "4000/4000 [==============================] - 1s 209us/step - loss: 14.1356 - acc: 0.1230\n",
            "Epoch 160/200\n",
            " 256/4000 [>.............................] - ETA: 0s - loss: 14.8589 - acc: 0.0781"
          ],
          "name": "stdout"
        },
        {
          "output_type": "stream",
          "text": [
            "4000/4000 [==============================] - 1s 213us/step - loss: 14.1356 - acc: 0.1230\n",
            "Epoch 161/200\n",
            "4000/4000 [==============================] - 1s 204us/step - loss: 14.1356 - acc: 0.1230\n",
            "Epoch 162/200\n",
            "4000/4000 [==============================] - 1s 206us/step - loss: 14.1356 - acc: 0.1230\n",
            "Epoch 163/200\n",
            "4000/4000 [==============================] - 1s 209us/step - loss: 14.1356 - acc: 0.1230\n",
            "Epoch 164/200\n",
            "4000/4000 [==============================] - 1s 205us/step - loss: 14.1356 - acc: 0.1230\n",
            "Epoch 165/200\n",
            "4000/4000 [==============================] - 1s 200us/step - loss: 14.1356 - acc: 0.1230\n",
            "Epoch 166/200\n",
            "4000/4000 [==============================] - 1s 209us/step - loss: 14.1356 - acc: 0.1230\n",
            "Epoch 167/200\n",
            "4000/4000 [==============================] - 1s 214us/step - loss: 14.1356 - acc: 0.1230\n",
            "Epoch 168/200\n",
            "4000/4000 [==============================] - 1s 210us/step - loss: 14.1356 - acc: 0.1230\n",
            "Epoch 169/200\n",
            "4000/4000 [==============================] - 1s 211us/step - loss: 14.1356 - acc: 0.1230\n",
            "Epoch 170/200\n",
            "1024/4000 [======>.......................] - ETA: 0s - loss: 14.2293 - acc: 0.1172"
          ],
          "name": "stdout"
        },
        {
          "output_type": "stream",
          "text": [
            "4000/4000 [==============================] - 1s 213us/step - loss: 14.1356 - acc: 0.1230\n",
            "Epoch 171/200\n",
            "4000/4000 [==============================] - 1s 212us/step - loss: 14.1356 - acc: 0.1230\n",
            "Epoch 172/200\n",
            "4000/4000 [==============================] - 1s 209us/step - loss: 14.1356 - acc: 0.1230\n",
            "Epoch 173/200\n",
            "4000/4000 [==============================] - 1s 212us/step - loss: 14.1356 - acc: 0.1230\n",
            "Epoch 174/200\n",
            "4000/4000 [==============================] - 1s 218us/step - loss: 14.1356 - acc: 0.1230\n",
            "Epoch 175/200\n",
            "4000/4000 [==============================] - 1s 210us/step - loss: 14.1356 - acc: 0.1230\n",
            "Epoch 176/200\n",
            "4000/4000 [==============================] - 1s 209us/step - loss: 14.1356 - acc: 0.1230\n",
            "Epoch 177/200\n",
            "4000/4000 [==============================] - 1s 211us/step - loss: 14.1356 - acc: 0.1230\n",
            "Epoch 178/200\n",
            "4000/4000 [==============================] - 1s 211us/step - loss: 14.1356 - acc: 0.1230\n",
            "Epoch 179/200\n",
            "4000/4000 [==============================] - 1s 213us/step - loss: 14.1356 - acc: 0.1230\n",
            "Epoch 180/200\n",
            " 832/4000 [=====>........................] - ETA: 0s - loss: 13.9484 - acc: 0.1346"
          ],
          "name": "stdout"
        },
        {
          "output_type": "stream",
          "text": [
            "4000/4000 [==============================] - 1s 198us/step - loss: 14.1356 - acc: 0.1230\n",
            "Epoch 181/200\n",
            "4000/4000 [==============================] - 1s 200us/step - loss: 14.1356 - acc: 0.1230\n",
            "Epoch 182/200\n",
            "4000/4000 [==============================] - 1s 207us/step - loss: 14.1356 - acc: 0.1230\n",
            "Epoch 183/200\n",
            "4000/4000 [==============================] - 1s 207us/step - loss: 14.1356 - acc: 0.1230\n",
            "Epoch 184/200\n",
            "4000/4000 [==============================] - 1s 214us/step - loss: 14.1356 - acc: 0.1230\n",
            "Epoch 185/200\n",
            "4000/4000 [==============================] - 1s 207us/step - loss: 14.1356 - acc: 0.1230\n",
            "Epoch 186/200\n",
            "4000/4000 [==============================] - 1s 205us/step - loss: 14.1356 - acc: 0.1230\n",
            "Epoch 187/200\n",
            "4000/4000 [==============================] - 1s 210us/step - loss: 14.1356 - acc: 0.1230\n",
            "Epoch 188/200\n",
            "4000/4000 [==============================] - 1s 207us/step - loss: 14.1356 - acc: 0.1230\n",
            "Epoch 189/200\n",
            "4000/4000 [==============================] - 1s 205us/step - loss: 14.1356 - acc: 0.1230\n",
            "Epoch 190/200\n",
            "1568/4000 [==========>...................] - ETA: 0s - loss: 14.1650 - acc: 0.1212"
          ],
          "name": "stdout"
        },
        {
          "output_type": "stream",
          "text": [
            "4000/4000 [==============================] - 1s 203us/step - loss: 14.1356 - acc: 0.1230\n",
            "Epoch 191/200\n",
            "4000/4000 [==============================] - 1s 199us/step - loss: 14.1356 - acc: 0.1230\n",
            "Epoch 192/200\n",
            "4000/4000 [==============================] - 1s 194us/step - loss: 14.1356 - acc: 0.1230\n",
            "Epoch 193/200\n",
            "4000/4000 [==============================] - 1s 208us/step - loss: 14.1356 - acc: 0.1230\n",
            "Epoch 194/200\n",
            "4000/4000 [==============================] - 1s 203us/step - loss: 14.1356 - acc: 0.1230\n",
            "Epoch 195/200\n",
            "4000/4000 [==============================] - 1s 210us/step - loss: 14.1356 - acc: 0.1230\n",
            "Epoch 196/200\n",
            "4000/4000 [==============================] - 1s 201us/step - loss: 14.1356 - acc: 0.1230\n",
            "Epoch 197/200\n",
            "4000/4000 [==============================] - 1s 206us/step - loss: 14.1356 - acc: 0.1230\n",
            "Epoch 198/200\n",
            "4000/4000 [==============================] - 1s 204us/step - loss: 14.1356 - acc: 0.1230\n",
            "Epoch 199/200\n",
            "4000/4000 [==============================] - 1s 210us/step - loss: 14.1356 - acc: 0.1230\n",
            "Epoch 200/200\n",
            "1792/4000 [============>.................] - ETA: 0s - loss: 14.2113 - acc: 0.1183"
          ],
          "name": "stdout"
        },
        {
          "output_type": "stream",
          "text": [
            "4000/4000 [==============================] - 1s 207us/step - loss: 14.1356 - acc: 0.1230\n"
          ],
          "name": "stdout"
        },
        {
          "output_type": "execute_result",
          "data": {
            "text/plain": [
              "<tensorflow.python.keras.callbacks.History at 0x7f82d7ad32d0>"
            ]
          },
          "metadata": {
            "tags": []
          },
          "execution_count": 8
        }
      ]
    },
    {
      "metadata": {
        "id": "Jd9MGDK94hRr",
        "colab_type": "text"
      },
      "cell_type": "markdown",
      "source": [
        "## Step 6\n",
        "See how your model performs by uisng it for inference.\n",
        "* What is the accuracy of classification ?\n",
        "* Change your model, re-compile and test. Can you improve the accuracy of the model ?\n"
      ]
    },
    {
      "metadata": {
        "id": "KyAeLkGo4hRt",
        "colab_type": "code",
        "colab": {
          "base_uri": "https://localhost:8080/",
          "height": 34
        },
        "outputId": "9f1d0800-2d33-452e-ed72-2fb461a85ace"
      },
      "cell_type": "code",
      "source": [
        "# predict labels - use the test set for prediction\n",
        "pred_labels = model.predict(X_test, verbose=1)"
      ],
      "execution_count": 9,
      "outputs": [
        {
          "output_type": "stream",
          "text": [
            "1000/1000 [==============================] - 0s 73us/step\n"
          ],
          "name": "stdout"
        }
      ]
    },
    {
      "metadata": {
        "id": "TJEhLJKx4hRv",
        "colab_type": "code",
        "colab": {
          "base_uri": "https://localhost:8080/",
          "height": 170
        },
        "outputId": "7dc73c89-7b3d-4ee8-877b-2de231c7af8f"
      },
      "cell_type": "code",
      "source": [
        "from sklearn.metrics import accuracy_score\n",
        "from sklearn.metrics import confusion_matrix\n",
        "\n",
        "# We need to convert the categorical array test_labels and pred_labels into a vector\n",
        "# in order to use it in the calculation of the confusion matrix (i.e. convert from one-hot to integers)\n",
        "\n",
        "mat = confusion_matrix(np.argmax(test_labels, axis=1), np.argmax(pred_labels, axis=1))\n",
        "acc = accuracy_score(np.argmax(test_labels, axis=1), np.argmax(pred_labels, axis=1))\n",
        "print(acc)\n",
        "print(mat)"
      ],
      "execution_count": 10,
      "outputs": [
        {
          "output_type": "stream",
          "text": [
            "0.133\n",
            "[[  0   0   0   0   0   0 131   0]\n",
            " [  0   0   0   0   0   0 119   0]\n",
            " [  0   0   0   0   0   0 124   0]\n",
            " [  0   0   0   0   0   0 107   0]\n",
            " [  0   0   0   0   0   0 137   0]\n",
            " [  0   0   0   0   0   0 125   0]\n",
            " [  0   0   0   0   0   0 133   0]\n",
            " [  0   0   0   0   0   0 124   0]]\n"
          ],
          "name": "stdout"
        }
      ]
    },
    {
      "metadata": {
        "id": "Em2WIdYb4hRx",
        "colab_type": "code",
        "colab": {
          "base_uri": "https://localhost:8080/",
          "height": 388
        },
        "outputId": "b26815da-be5b-4cf8-de86-6c44a3fd126e"
      },
      "cell_type": "code",
      "source": [
        "plt.figure(figsize=(8,6))\n",
        "plt.imshow(mat, cmap='hot', interpolation='nearest')\n",
        "plt.grid(False)\n",
        "plt.colorbar()\n",
        "plt.xlabel('true label')\n",
        "plt.ylabel('predicted label')\n",
        "plt.show()"
      ],
      "execution_count": 11,
      "outputs": [
        {
          "output_type": "display_data",
          "data": {
            "image/png": "[encoded data removed]",
            "text/plain": [
              "<matplotlib.figure.Figure at 0x7f82c32066d0>"
            ]
          },
          "metadata": {
            "tags": []
          }
        }
      ]
    },
    {
      "metadata": {
        "id": "GTaVC3IX4hR1",
        "colab_type": "text"
      },
      "cell_type": "markdown",
      "source": [
        "## Assignment\n",
        "* In Step 3 design your own network\n",
        "* Does the model perform better if you use all three RGB channels ?\n",
        "* How does the performance change when using the La*b colorspace ?\n"
      ]
    },
    {
      "metadata": {
        "id": "-56VZ4Qi2u1J",
        "colab_type": "code",
        "colab": {}
      },
      "cell_type": "code",
      "source": [
        ""
      ],
      "execution_count": 0,
      "outputs": []
    }
  ]
}